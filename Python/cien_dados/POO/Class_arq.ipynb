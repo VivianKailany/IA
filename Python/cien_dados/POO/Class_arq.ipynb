{
 "cells": [
  {
   "cell_type": "code",
   "execution_count": 5,
   "id": "a6eac1f6",
   "metadata": {},
   "outputs": [],
   "source": [
    "\n",
    "class ArquivoCSV(object):\n"
   ]
  },
  {
   "cell_type": "code",
   "execution_count": 8,
   "id": "cba1bd70",
   "metadata": {},
   "outputs": [
    {
     "name": "stdout",
     "output_type": "stream",
     "text": [
      "viviank,25 anos e documento numero 458\n"
     ]
    }
   ],
   "source": [
    "\n",
    "    def __init__(self,arquivo:str):\n",
    "        self.arquivo=arquivo\n",
    "        self.conteudo=self._extrair_conteudo()\n",
    "        self.colunas=self._extrair_nome_colunas()\n",
    "    def _extrair_nome_colunas(self):\n",
    "        conteudo = None\n",
    "        with open (file=self.arquivo,mode='r',encondinf='utf8') as arquivo:\n",
    "            conteudo = arquivo.readLines()\n",
    "        return conteudo\n",
    "    def _extrair_nome_colunas(self):\n",
    "        return self.conteudo[0].strip().split(sep=',')\n",
    "    def extrair_coluna(self, indice_coluna:str):\n",
    "        coluna=list()\n",
    "        for linha in self.conteudo:\n",
    "            conteudo_linha = linha.strip().split(sep=',')\n",
    "            coluna.append(conteudo_linha[indice])\n",
    "        \n",
    "       "
   ]
  },
  {
   "cell_type": "code",
   "execution_count": null,
   "id": "ccad65ae",
   "metadata": {},
   "outputs": [],
   "source": []
  },
  {
   "cell_type": "code",
   "execution_count": null,
   "id": "7d4da6bf",
   "metadata": {},
   "outputs": [],
   "source": []
  }
 ],
 "metadata": {
  "kernelspec": {
   "display_name": "Python 3 (ipykernel)",
   "language": "python",
   "name": "python3"
  },
  "language_info": {
   "codemirror_mode": {
    "name": "ipython",
    "version": 3
   },
   "file_extension": ".py",
   "mimetype": "text/x-python",
   "name": "python",
   "nbconvert_exporter": "python",
   "pygments_lexer": "ipython3",
   "version": "3.9.13"
  }
 },
 "nbformat": 4,
 "nbformat_minor": 5
}
