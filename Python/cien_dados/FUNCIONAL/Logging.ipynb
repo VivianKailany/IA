{
 "cells": [
  {
   "cell_type": "code",
   "execution_count": 1,
   "id": "2b49b094",
   "metadata": {},
   "outputs": [],
   "source": [
    "import logging"
   ]
  },
  {
   "cell_type": "code",
   "execution_count": 2,
   "id": "701ac2c1",
   "metadata": {},
   "outputs": [],
   "source": [
    "LOG_FORMAT=\"%(levelname)s %(asctime)s - %(message)s\""
   ]
  },
  {
   "cell_type": "code",
   "execution_count": 3,
   "id": "3c789f30",
   "metadata": {},
   "outputs": [],
   "source": [
    "logging.basicConfig(filename=\"app.log\",level=logging.DEBUG,filemode=\"w\",format=LOG_FORMAT)"
   ]
  },
  {
   "cell_type": "code",
   "execution_count": 4,
   "id": "62701e23",
   "metadata": {},
   "outputs": [],
   "source": [
    "log = logging.getLogger()"
   ]
  },
  {
   "cell_type": "code",
   "execution_count": 5,
   "id": "0abe87cc",
   "metadata": {},
   "outputs": [],
   "source": [
    "log.info(\"OLA\")\n",
    "log.critical(\"ERRO GRAVE\")\n",
    "log.error(\"\")\n",
    "log.debug(\"\")\n",
    "log.warning(\"\")\n"
   ]
  },
  {
   "cell_type": "code",
   "execution_count": 6,
   "id": "00ab563f",
   "metadata": {},
   "outputs": [
    {
     "data": {
      "text/plain": [
       "10"
      ]
     },
     "execution_count": 6,
     "metadata": {},
     "output_type": "execute_result"
    }
   ],
   "source": [
    "log.level"
   ]
  },
  {
   "cell_type": "code",
   "execution_count": null,
   "id": "75dd5471",
   "metadata": {},
   "outputs": [],
   "source": []
  }
 ],
 "metadata": {
  "kernelspec": {
   "display_name": "Python 3 (ipykernel)",
   "language": "python",
   "name": "python3"
  },
  "language_info": {
   "codemirror_mode": {
    "name": "ipython",
    "version": 3
   },
   "file_extension": ".py",
   "mimetype": "text/x-python",
   "name": "python",
   "nbconvert_exporter": "python",
   "pygments_lexer": "ipython3",
   "version": "3.9.13"
  }
 },
 "nbformat": 4,
 "nbformat_minor": 5
}
