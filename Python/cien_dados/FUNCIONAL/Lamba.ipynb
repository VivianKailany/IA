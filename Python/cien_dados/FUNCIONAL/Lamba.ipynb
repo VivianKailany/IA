{
 "cells": [
  {
   "cell_type": "code",
   "execution_count": 1,
   "id": "47674b63",
   "metadata": {},
   "outputs": [],
   "source": [
    "e= lambda email: email.split(sep='@')[-1]"
   ]
  },
  {
   "cell_type": "code",
   "execution_count": 2,
   "id": "ff099455",
   "metadata": {},
   "outputs": [],
   "source": [
    "email='vivianl@gmail.com'"
   ]
  },
  {
   "cell_type": "code",
   "execution_count": 3,
   "id": "8b75acbe",
   "metadata": {},
   "outputs": [],
   "source": [
    "p=e(email)"
   ]
  },
  {
   "cell_type": "code",
   "execution_count": 4,
   "id": "66ee0281",
   "metadata": {},
   "outputs": [
    {
     "name": "stdout",
     "output_type": "stream",
     "text": [
      "gmail.com\n"
     ]
    }
   ],
   "source": [
    "print(p)"
   ]
  },
  {
   "cell_type": "code",
   "execution_count": null,
   "id": "d155f13c",
   "metadata": {},
   "outputs": [],
   "source": []
  }
 ],
 "metadata": {
  "kernelspec": {
   "display_name": "Python 3 (ipykernel)",
   "language": "python",
   "name": "python3"
  },
  "language_info": {
   "codemirror_mode": {
    "name": "ipython",
    "version": 3
   },
   "file_extension": ".py",
   "mimetype": "text/x-python",
   "name": "python",
   "nbconvert_exporter": "python",
   "pygments_lexer": "ipython3",
   "version": "3.9.13"
  }
 },
 "nbformat": 4,
 "nbformat_minor": 5
}
