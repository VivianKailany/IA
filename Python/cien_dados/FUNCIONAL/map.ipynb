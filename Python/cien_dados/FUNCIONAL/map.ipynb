{
 "cells": [
  {
   "cell_type": "code",
   "execution_count": null,
   "id": "5d0a3226",
   "metadata": {},
   "outputs": [],
   "source": [
    "emails=['andre@gmail.com','vivian@gmail.com','kailany@gmail.com']\n"
   ]
  },
  {
   "cell_type": "code",
   "execution_count": null,
   "id": "05cf76fa",
   "metadata": {},
   "outputs": [],
   "source": [
    "extrair= lambda email: email.split(sep='@')[0]\n"
   ]
  },
  {
   "cell_type": "code",
   "execution_count": null,
   "id": "409c5854",
   "metadata": {},
   "outputs": [],
   "source": [
    "#normal\n",
    "provedores = []\n",
    "for email in emails:\n",
    "    provedor = extrair(email)\n",
    "    provedores.append(provedor)\n",
    "print(provedores)"
   ]
  },
  {
   "cell_type": "code",
   "execution_count": null,
   "id": "89e4d3c1",
   "metadata": {},
   "outputs": [],
   "source": [
    "provedores = list(map(extrair,emails))"
   ]
  },
  {
   "cell_type": "code",
   "execution_count": null,
   "id": "a42ad7fc",
   "metadata": {},
   "outputs": [],
   "source": [
    "print(provedores)"
   ]
  },
  {
   "cell_type": "code",
   "execution_count": null,
   "id": "0cb8e1de",
   "metadata": {},
   "outputs": [],
   "source": []
  }
 ],
 "metadata": {
  "kernelspec": {
   "display_name": "Python 3 (ipykernel)",
   "language": "python",
   "name": "python3"
  },
  "language_info": {
   "codemirror_mode": {
    "name": "ipython",
    "version": 3
   },
   "file_extension": ".py",
   "mimetype": "text/x-python",
   "name": "python",
   "nbconvert_exporter": "python",
   "pygments_lexer": "ipython3",
   "version": "3.9.13"
  }
 },
 "nbformat": 4,
 "nbformat_minor": 5
}
