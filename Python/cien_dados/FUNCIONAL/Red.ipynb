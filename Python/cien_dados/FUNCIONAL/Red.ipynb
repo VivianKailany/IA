{
 "cells": [
  {
   "cell_type": "code",
   "execution_count": 1,
   "id": "a7fb9502",
   "metadata": {},
   "outputs": [],
   "source": [
    "from functools import reduce"
   ]
  },
  {
   "cell_type": "code",
   "execution_count": 7,
   "id": "16299d15",
   "metadata": {},
   "outputs": [],
   "source": [
    "numeros = [4,2,3]"
   ]
  },
  {
   "cell_type": "code",
   "execution_count": 8,
   "id": "946c4962",
   "metadata": {},
   "outputs": [
    {
     "name": "stdout",
     "output_type": "stream",
     "text": [
      "4\n"
     ]
    }
   ],
   "source": [
    "soma = reduce(lambda x,y: x if x>=y else y, numeros)\n",
    "print(soma)"
   ]
  },
  {
   "cell_type": "code",
   "execution_count": null,
   "id": "73afbe74",
   "metadata": {},
   "outputs": [],
   "source": []
  }
 ],
 "metadata": {
  "kernelspec": {
   "display_name": "Python 3 (ipykernel)",
   "language": "python",
   "name": "python3"
  },
  "language_info": {
   "codemirror_mode": {
    "name": "ipython",
    "version": 3
   },
   "file_extension": ".py",
   "mimetype": "text/x-python",
   "name": "python",
   "nbconvert_exporter": "python",
   "pygments_lexer": "ipython3",
   "version": "3.9.13"
  }
 },
 "nbformat": 4,
 "nbformat_minor": 5
}
