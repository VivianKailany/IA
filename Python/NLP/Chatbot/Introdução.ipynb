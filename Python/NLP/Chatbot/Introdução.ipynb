{
 "cells": [
  {
   "cell_type": "code",
   "execution_count": 1,
   "id": "8c2aa249",
   "metadata": {
    "scrolled": true
   },
   "outputs": [],
   "source": [
    "from chatterbot import ChatBot\n",
    "from chatterbot.trainers import ChatterBotCorpusTrainer\n",
    "from chatterbot.trainers import ListTrainer"
   ]
  },
  {
   "cell_type": "code",
   "execution_count": 2,
   "id": "bc26806a",
   "metadata": {},
   "outputs": [
    {
     "name": "stderr",
     "output_type": "stream",
     "text": [
      "[nltk_data] Downloading package averaged_perceptron_tagger to\n",
      "[nltk_data]     /home/fostrix/nltk_data...\n",
      "[nltk_data]   Package averaged_perceptron_tagger is already up-to-\n",
      "[nltk_data]       date!\n",
      "[nltk_data] Downloading package punkt to /home/fostrix/nltk_data...\n",
      "[nltk_data]   Package punkt is already up-to-date!\n",
      "[nltk_data] Downloading package stopwords to\n",
      "[nltk_data]     /home/fostrix/nltk_data...\n",
      "[nltk_data]   Package stopwords is already up-to-date!\n"
     ]
    }
   ],
   "source": [
    "# Criação do chatbot\n",
    "bot = ChatBot('MeuBot')"
   ]
  },
  {
   "cell_type": "code",
   "execution_count": 3,
   "id": "a2500773",
   "metadata": {},
   "outputs": [],
   "source": [
    "# Criação do trainer\n",
    "trainer = ListTrainer(bot)"
   ]
  },
  {
   "cell_type": "code",
   "execution_count": 4,
   "id": "5a816a5f",
   "metadata": {},
   "outputs": [
    {
     "name": "stdout",
     "output_type": "stream",
     "text": [
      "List Trainer: [####################] 100%\n"
     ]
    }
   ],
   "source": [
    "# Treinamento personalizado em português\n",
    "trainer.train([\n",
    "    'Qual é o seu nome?',\n",
    "    'Meu nome é MeuBot.',\n",
    "    'Como você está?',\n",
    "    'Estou bem, obrigado!',\n",
    "    'O que você gosta de fazer?',\n",
    "    'Eu gosto de conversar com pessoas.',\n",
    "    'Qual é a sua comida favorita?',\n",
    "    'Não como, pois sou um programa de computador.',\n",
    "])"
   ]
  },
  {
   "cell_type": "code",
   "execution_count": null,
   "id": "500fb47f",
   "metadata": {},
   "outputs": [
    {
     "name": "stdout",
     "output_type": "stream",
     "text": [
      "Você: Qual é o seu nome?\n",
      "MeuBot: Meu nome é MeuBot.\n"
     ]
    }
   ],
   "source": [
    "\n",
    "\n",
    "\n",
    "# Obtenção de resposta do chatbot\n",
    "while True:\n",
    "    user_input = input('Você: ')\n",
    "    response = bot.get_response(user_input)\n",
    "    print('MeuBot:', response)\n",
    "\n"
   ]
  },
  {
   "cell_type": "code",
   "execution_count": null,
   "id": "5e1621f3",
   "metadata": {},
   "outputs": [],
   "source": []
  }
 ],
 "metadata": {
  "kernelspec": {
   "display_name": "Python 3 (ipykernel)",
   "language": "python",
   "name": "python3"
  },
  "language_info": {
   "codemirror_mode": {
    "name": "ipython",
    "version": 3
   },
   "file_extension": ".py",
   "mimetype": "text/x-python",
   "name": "python",
   "nbconvert_exporter": "python",
   "pygments_lexer": "ipython3",
   "version": "3.9.13"
  }
 },
 "nbformat": 4,
 "nbformat_minor": 5
}
