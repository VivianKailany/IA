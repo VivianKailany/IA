{
 "cells": [
  {
   "cell_type": "code",
   "execution_count": 1,
   "id": "a0b33fcc",
   "metadata": {},
   "outputs": [],
   "source": [
    "from nltk.corpus import stopwords\n",
    "from nltk.stem import RSLPStemmer\n",
    "from nltk import FreqDist, NaiveBayesClassifier, classify"
   ]
  },
  {
   "cell_type": "code",
   "execution_count": 2,
   "id": "adfd444d",
   "metadata": {},
   "outputs": [],
   "source": [
    "dataset = [('Essa capinha de celular é muito boa', 'alegria'),\n",
    "           ('Gostei muito desta capinha de celular', 'alegria'),\n",
    "           ('Capinha maravilhosa', 'alegria'),\n",
    "           ('Que capinha bonita', 'alegria'),\n",
    "           ('Abaixo do esperado', 'raiva'),\n",
    "           ('Não gostei', 'raiva'),\n",
    "           ('Desbotou na primeira semana', 'raiva'),\n",
    "           ('Olha só essa capinha! ', 'alegria'),\n",
    "           ('Material de baixa resistência', 'raiva'),\n",
    "           ('Custo beneficio excelente', 'alegria'),\n",
    "           ('A foto é diferente do produto', 'raiva')]"
   ]
  },
  {
   "cell_type": "code",
   "execution_count": 3,
   "id": "133af837",
   "metadata": {},
   "outputs": [],
   "source": [
    "stopwordsnltk = stopwords.words('portuguese')\n",
    "stemmer = RSLPStemmer()"
   ]
  },
  {
   "cell_type": "code",
   "execution_count": 4,
   "id": "bf65a767",
   "metadata": {},
   "outputs": [],
   "source": [
    "def stem_text(text):\n",
    "    \"\"\"\n",
    "    Extrai os radicais das palavras\n",
    "    \"\"\"\n",
    "    words = [str(stemmer.stem(word)) for word in text.split() if word not in stopwordsnltk]\n",
    "    return words"
   ]
  },
  {
   "cell_type": "code",
   "execution_count": 5,
   "id": "1cfbb4ab",
   "metadata": {},
   "outputs": [],
   "source": [
    "def extract_features(sentences):\n",
    "    \"\"\"\n",
    "    Extrai as características (palavras) das frases\n",
    "    \"\"\"\n",
    "    all_words = FreqDist(word for words, _ in sentences for word in words)\n",
    "    return all_words.keys()"
   ]
  },
  {
   "cell_type": "code",
   "execution_count": 6,
   "id": "586d275f",
   "metadata": {},
   "outputs": [],
   "source": [
    "def document_features(document):\n",
    "    \"\"\"\n",
    "    Extrai as características do documento\n",
    "    \"\"\"\n",
    "    doc_words = set(document)\n",
    "    features = {}\n",
    "    for word in words_unique:\n",
    "        features[word] = (word in doc_words)\n",
    "    return features"
   ]
  },
  {
   "cell_type": "code",
   "execution_count": 7,
   "id": "7a12c1c6",
   "metadata": {},
   "outputs": [],
   "source": [
    "sentences_stemmed = [(stem_text(sentence), emotion) for sentence, emotion in dataset]\n",
    "words_all = extract_features(sentences_stemmed)\n",
    "words_unique = list(words_all)"
   ]
  },
  {
   "cell_type": "code",
   "execution_count": 8,
   "id": "a359c362",
   "metadata": {},
   "outputs": [],
   "source": [
    "training_set = classify.apply_features(document_features, sentences_stemmed)\n",
    "\n",
    "classifier = NaiveBayesClassifier.train(training_set)"
   ]
  },
  {
   "cell_type": "markdown",
   "id": "c3a0992a",
   "metadata": {},
   "source": [
    "#TESTE"
   ]
  },
  {
   "cell_type": "code",
   "execution_count": 9,
   "id": "d60322b1",
   "metadata": {},
   "outputs": [],
   "source": [
    "test_sentence = 'Abaixo do esperado'\n",
    "test_stemmed = [stemmer.stem(word) for word in test_sentence.split()]"
   ]
  },
  {
   "cell_type": "code",
   "execution_count": 10,
   "id": "6f97ce86",
   "metadata": {},
   "outputs": [],
   "source": [
    "test_features = document_features(test_stemmed)\n",
    "\n",
    "prob_dist = classifier.prob_classify(test_features)"
   ]
  },
  {
   "cell_type": "code",
   "execution_count": 11,
   "id": "620913d3",
   "metadata": {},
   "outputs": [
    {
     "name": "stdout",
     "output_type": "stream",
     "text": [
      "alegria: 0.050416\n",
      "raiva: 0.949584\n",
      "Accuracy: 1.0\n"
     ]
    }
   ],
   "source": [
    "\n",
    "for label in prob_dist.samples():\n",
    "    print(\"%s: %f\" % (label, prob_dist.prob(label)))\n",
    "\n",
    "print('Accuracy:', classify.accuracy(classifier, training_set))\n"
   ]
  },
  {
   "cell_type": "code",
   "execution_count": null,
   "id": "029918c8",
   "metadata": {},
   "outputs": [],
   "source": []
  },
  {
   "cell_type": "code",
   "execution_count": null,
   "id": "5b342b0c",
   "metadata": {},
   "outputs": [],
   "source": []
  }
 ],
 "metadata": {
  "kernelspec": {
   "display_name": "Python 3 (ipykernel)",
   "language": "python",
   "name": "python3"
  },
  "language_info": {
   "codemirror_mode": {
    "name": "ipython",
    "version": 3
   },
   "file_extension": ".py",
   "mimetype": "text/x-python",
   "name": "python",
   "nbconvert_exporter": "python",
   "pygments_lexer": "ipython3",
   "version": "3.9.13"
  }
 },
 "nbformat": 4,
 "nbformat_minor": 5
}
